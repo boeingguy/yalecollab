{
 "cells": [
  {
   "cell_type": "code",
   "execution_count": 7,
   "id": "0b34f8af",
   "metadata": {},
   "outputs": [
    {
     "name": "stdout",
     "output_type": "stream",
     "text": [
      "Identifiers saved to identifiers.csv\n"
     ]
    }
   ],
   "source": [
    "import pandas as pd\n",
    "import json\n",
    "\n",
    "#load the JSON file\n",
    "json_file_path = '/Users/ruchikyajnik/Documents/NJIT/Research/Gerstein_Lab/Code/pdb_ids.json'\n",
    "with open(json_file_path, 'r') as file:\n",
    "    data = json.load(file)\n",
    "\n",
    "# Extract the \"identifier\" values from the \"result_set\"\n",
    "identifiers = [item[\"identifier\"] for item in data[\"result_set\"]]\n",
    "\n",
    "# Create a pandas DataFrame with the \"identifier\" values\n",
    "df = pd.DataFrame(identifiers, columns=[\"identifier\"])\n",
    "\n",
    "# Save the DataFrame to a CSV file\n",
    "output_csv_file = 'identifiers.csv'\n",
    "df.to_csv(output_csv_file, index=False)\n",
    "\n",
    "print(f\"Identifiers saved to {output_csv_file}\")"
   ]
  },
  {
   "cell_type": "code",
   "execution_count": null,
   "id": "c0447fc3",
   "metadata": {},
   "outputs": [],
   "source": []
  }
 ],
 "metadata": {
  "kernelspec": {
   "display_name": "Python 3 (ipykernel)",
   "language": "python",
   "name": "python3"
  },
  "language_info": {
   "codemirror_mode": {
    "name": "ipython",
    "version": 3
   },
   "file_extension": ".py",
   "mimetype": "text/x-python",
   "name": "python",
   "nbconvert_exporter": "python",
   "pygments_lexer": "ipython3",
   "version": "3.11.0"
  }
 },
 "nbformat": 4,
 "nbformat_minor": 5
}
